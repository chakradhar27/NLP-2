{
 "cells": [
  {
   "cell_type": "markdown",
   "metadata": {},
   "source": [
    "# Text Classification with a Feedforward Network\n",
    "\n",
    "\n",
    "\n",
    "The goal of this Project is to develop a Feedforward neural network for text classification. \n",
    "\n",
    "\n",
    "\n",
    "For that purpose, we will implement:\n",
    "\n",
    "- Text processing methods for transforming raw text data into input vectors for your network\n",
    "\n",
    "\n",
    "- A Feedforward network consisting of:\n",
    "    - **One-hot** input layer mapping words into an **Embedding weight matrix**\n",
    "    - **One hidden layer** computing the mean embedding vector of all words in input followed by a **ReLU activation function**\n",
    "    - **Output layer** with a **softmax** activation.\n",
    "\n",
    "\n",
    "- The Stochastic Gradient Descent (SGD) algorithm with **back-propagation** to learn the weights of your Neural network. Your algorithm should:\n",
    "    - Use (and minimise) the **Categorical Cross-entropy loss** function \n",
    "    - Perform a **Forward pass** to compute intermediate outputs \n",
    "    - Perform a **Backward pass** to compute gradients and update all sets of weights \n",
    "    - Implement and use **Dropout** after each hidden layer for regularisation \n",
    "\n",
    "\n",
    "\n",
    "- Discuss the choice of hyperparameters \n",
    "\n",
    "- After training a model, plot the learning process (i.e. training and validation loss in each epoch) using a line plot and report accuracy.\n",
    "\n",
    "\n",
    "\n",
    "- Re-train your network by using pre-trained embeddings ([GloVe](https://nlp.stanford.edu/projects/glove/)) trained on large corpora. Instead of randomly initialising the embedding weights matrix, initialise it with the pre-trained weights. During training, should not update them (i.e. weight freezing) and backprop should stop before computing gradients for updating embedding weights.\n",
    "\n",
    "\n",
    "\n",
    "- Extend you Feedforward network by adding more hidden layers (e.g. one more or two). How does it affect the performance? \n",
    "\n",
    "\n",
    "- Provide well documented and commented code describing all of your choices. \n",
    "\n",
    "\n",
    "\n",
    "- Provide efficient solutions by using Numpy arrays when possible. \n",
    "\n",
    "\n",
    "\n",
    "### Data \n",
    "\n",
    "The data we will use for the task is a subset of the [AG News Corpus](http://groups.di.unipi.it/~gulli/AG_corpus_of_news_articles.html) and we can find it in the `./data_topic` folder in CSV format:\n",
    "\n",
    "- `data_topic/train.csv`: contains 2,400 news articles, 800 for each class to be used for training.\n",
    "- `data_topic/dev.csv`: contains 150 news articles, 50 for each class to be used for hyperparameter selection and monitoring the training process.\n",
    "- `data_topic/test.csv`: contains 900 news articles, 300 for each class to be used for testing.\n",
    "\n",
    "### Pre-trained Embeddings\n",
    "\n",
    "We can download pre-trained GloVe embeddings trained on Common Crawl (840B tokens, 2.2M vocab, cased, 300d vectors, 2.03 GB download) from [here](http://nlp.stanford.edu/data/glove.840B.300d.zip). No need to unzip, the file is large.\n",
    "\n",
    "### Save Memory\n",
    "\n",
    "\n",
    "\n"
   ]
  },
  {
   "cell_type": "code",
   "execution_count": 1,
   "metadata": {
    "ExecuteTime": {
     "end_time": "2020-04-02T15:00:18.625532Z",
     "start_time": "2020-04-02T15:00:17.377733Z"
    },
    "scrolled": true
   },
   "outputs": [],
   "source": [
    "import pandas as pd\n",
    "import numpy as np\n",
    "from collections import Counter\n",
    "import re\n",
    "import matplotlib.pyplot as plt\n",
    "from sklearn.metrics import accuracy_score, precision_score, recall_score, f1_score\n",
    "import random\n",
    "from time import localtime, strftime\n",
    "from scipy.stats import spearmanr,pearsonr\n",
    "import zipfile\n",
    "import gc\n",
    "\n",
    "# fixing random seed for reproducibility\n",
    "random.seed(123)\n",
    "np.random.seed(123)\n"
   ]
  },
  {
   "cell_type": "markdown",
   "metadata": {},
   "source": [
    "## Transform Raw texts into training and development data\n",
    "\n",
    "#### First, you need to load the training, development and test sets from their corresponding CSV files (tip: you can use Pandas dataframes)."
   ]
  },
  {
   "cell_type": "code",
   "execution_count": 2,
   "metadata": {
    "ExecuteTime": {
     "end_time": "2020-04-02T14:26:39.748484Z",
     "start_time": "2020-04-02T14:26:39.727404Z"
    },
    "scrolled": true
   },
   "outputs": [],
   "source": [
    "train_data = pd.read_csv('./data_topic/train.csv', header=None)\n",
    "dev_data = pd.read_csv('./data_topic/dev.csv', header=None)\n",
    "test_data = pd.read_csv('./data_topic/test.csv', header=None)"
   ]
  },
  {
   "cell_type": "code",
   "execution_count": 3,
   "metadata": {
    "ExecuteTime": {
     "end_time": "2020-04-02T14:26:39.753874Z",
     "start_time": "2020-04-02T14:26:39.749647Z"
    },
    "scrolled": true
   },
   "outputs": [
    {
     "data": {
      "text/html": [
       "<div>\n",
       "<style scoped>\n",
       "    .dataframe tbody tr th:only-of-type {\n",
       "        vertical-align: middle;\n",
       "    }\n",
       "\n",
       "    .dataframe tbody tr th {\n",
       "        vertical-align: top;\n",
       "    }\n",
       "\n",
       "    .dataframe thead th {\n",
       "        text-align: right;\n",
       "    }\n",
       "</style>\n",
       "<table border=\"1\" class=\"dataframe\">\n",
       "  <thead>\n",
       "    <tr style=\"text-align: right;\">\n",
       "      <th></th>\n",
       "      <th>0</th>\n",
       "      <th>1</th>\n",
       "    </tr>\n",
       "  </thead>\n",
       "  <tbody>\n",
       "    <tr>\n",
       "      <th>0</th>\n",
       "      <td>1</td>\n",
       "      <td>Reuters - Venezuelans turned out early\\and in ...</td>\n",
       "    </tr>\n",
       "    <tr>\n",
       "      <th>1</th>\n",
       "      <td>1</td>\n",
       "      <td>Reuters - South Korean police used water canno...</td>\n",
       "    </tr>\n",
       "    <tr>\n",
       "      <th>2</th>\n",
       "      <td>1</td>\n",
       "      <td>Reuters - Thousands of Palestinian\\prisoners i...</td>\n",
       "    </tr>\n",
       "    <tr>\n",
       "      <th>3</th>\n",
       "      <td>1</td>\n",
       "      <td>AFP - Sporadic gunfire and shelling took place...</td>\n",
       "    </tr>\n",
       "    <tr>\n",
       "      <th>4</th>\n",
       "      <td>1</td>\n",
       "      <td>AP - Dozens of Rwandan soldiers flew into Suda...</td>\n",
       "    </tr>\n",
       "  </tbody>\n",
       "</table>\n",
       "</div>"
      ],
      "text/plain": [
       "   0                                                  1\n",
       "0  1  Reuters - Venezuelans turned out early\\and in ...\n",
       "1  1  Reuters - South Korean police used water canno...\n",
       "2  1  Reuters - Thousands of Palestinian\\prisoners i...\n",
       "3  1  AFP - Sporadic gunfire and shelling took place...\n",
       "4  1  AP - Dozens of Rwandan soldiers flew into Suda..."
      ]
     },
     "execution_count": 3,
     "metadata": {},
     "output_type": "execute_result"
    }
   ],
   "source": [
    "#sample of the data\n",
    "train_data.head(5)\n",
    "#dev_data.head(5)\n",
    "#test_data.head(5)"
   ]
  },
  {
   "cell_type": "code",
   "execution_count": 4,
   "metadata": {},
   "outputs": [
    {
     "name": "stdout",
     "output_type": "stream",
     "text": [
      "<class 'pandas.core.frame.DataFrame'>\n",
      "RangeIndex: 2400 entries, 0 to 2399\n",
      "Data columns (total 2 columns):\n",
      " #   Column  Non-Null Count  Dtype \n",
      "---  ------  --------------  ----- \n",
      " 0   0       2400 non-null   int64 \n",
      " 1   1       2400 non-null   object\n",
      "dtypes: int64(1), object(1)\n",
      "memory usage: 37.6+ KB\n",
      "<class 'pandas.core.frame.DataFrame'>\n",
      "RangeIndex: 150 entries, 0 to 149\n",
      "Data columns (total 2 columns):\n",
      " #   Column  Non-Null Count  Dtype \n",
      "---  ------  --------------  ----- \n",
      " 0   0       150 non-null    int64 \n",
      " 1   1       150 non-null    object\n",
      "dtypes: int64(1), object(1)\n",
      "memory usage: 2.5+ KB\n",
      "<class 'pandas.core.frame.DataFrame'>\n",
      "RangeIndex: 900 entries, 0 to 899\n",
      "Data columns (total 2 columns):\n",
      " #   Column  Non-Null Count  Dtype \n",
      "---  ------  --------------  ----- \n",
      " 0   0       900 non-null    int64 \n",
      " 1   1       900 non-null    object\n",
      "dtypes: int64(1), object(1)\n",
      "memory usage: 14.2+ KB\n"
     ]
    }
   ],
   "source": [
    "#info about the each dataset\n",
    "train_data.info()\n",
    "dev_data.info()\n",
    "test_data.info()"
   ]
  },
  {
   "cell_type": "code",
   "execution_count": 5,
   "metadata": {},
   "outputs": [
    {
     "name": "stdout",
     "output_type": "stream",
     "text": [
      "3    0.333333\n",
      "1    0.333333\n",
      "2    0.333333\n",
      "Name: 0, dtype: float64\n",
      "3    0.333333\n",
      "2    0.333333\n",
      "1    0.333333\n",
      "Name: 0, dtype: float64\n",
      "3    0.333333\n",
      "2    0.333333\n",
      "1    0.333333\n",
      "Name: 0, dtype: float64\n"
     ]
    }
   ],
   "source": [
    "#distribution of the class and check for missing entries\n",
    "print(train_data[0].value_counts('1'))\n",
    "print(dev_data[0].value_counts('1'))\n",
    "print(test_data[0].value_counts('1'))"
   ]
  },
  {
   "cell_type": "code",
   "execution_count": 6,
   "metadata": {},
   "outputs": [
    {
     "name": "stdout",
     "output_type": "stream",
     "text": [
      "Train_data: 0\n",
      "Validation_data: 0\n",
      "Test_data: 0\n"
     ]
    }
   ],
   "source": [
    "#check for any Null values\n",
    "print(\"Train_data:\", sum(np.isnan(train_data[0])))\n",
    "print(\"Validation_data:\", sum(np.isnan(dev_data[0])))\n",
    "print(\"Test_data:\", sum(np.isnan(test_data[0])))"
   ]
  },
  {
   "cell_type": "markdown",
   "metadata": {},
   "source": [
    "No missing values found in the datasets and all the three classes are equally distributed in train, dev and test sets indicating a balanced dataset."
   ]
  },
  {
   "cell_type": "markdown",
   "metadata": {},
   "source": [
    "# Create input representations\n",
    "\n",
    "\n",
    "#### To train your Feedforward network, you first need to obtain input representations given a vocabulary. One-hot encoding requires large memory capacity. Therefore, we will instead represent documents as lists of vocabulary indices (each word corresponds to a vocabulary index). \n",
    "\n",
    "\n",
    "## Text Pre-Processing Pipeline\n",
    "\n",
    "To obtain a vocabulary of words. You should: \n",
    "- tokenise all texts into a list of unigrams (tip: you can re-use the functions from Assignment 1) \n",
    "- remove stop words (using the one provided or one of your preference) \n",
    "- remove unigrams appearing in less than K documents\n",
    "- use the remaining to create a vocabulary of the top-N most frequent unigrams in the entire corpus.\n"
   ]
  },
  {
   "cell_type": "code",
   "execution_count": 7,
   "metadata": {
    "ExecuteTime": {
     "end_time": "2020-04-02T14:26:40.851926Z",
     "start_time": "2020-04-02T14:26:40.847500Z"
    },
    "scrolled": true
   },
   "outputs": [],
   "source": [
    "stop_words = ['a','in','on','at','and','or', \n",
    "              'to', 'the', 'of', 'an', 'by', \n",
    "              'as', 'is', 'was', 'were', 'been', 'be', \n",
    "              'are','for', 'this', 'that', 'these', 'those', 'you', 'i', 'if',\n",
    "             'it', 'he', 'she', 'we', 'they', 'will', 'have', 'has',\n",
    "              'do', 'did', 'can', 'could', 'who', 'which', 'what',\n",
    "              'but', 'not', 'there', 'no', 'does', 'not', 'so', 've', 'their',\n",
    "             'his', 'her', 'they', 'them', 'from', 'with', 'its']\n"
   ]
  },
  {
   "cell_type": "code",
   "execution_count": 8,
   "metadata": {},
   "outputs": [],
   "source": [
    "train_data_txt = list(train_data[1])\n",
    "dev_data_txt = list(dev_data[1])\n",
    "test_data_txt = list(test_data[1])"
   ]
  },
  {
   "cell_type": "markdown",
   "metadata": {},
   "source": [
    "### Unigram extraction from a document\n",
    "\n",
    "#### You first need to implement the `extract_ngrams` function. It takes as input:\n",
    "- `x_raw`: a string corresponding to the raw text of a document\n",
    "- `ngram_range`: a tuple of two integers denoting the type of ngrams you want to extract, e.g. (1,2) denotes extracting unigrams and bigrams.\n",
    "- `token_pattern`: a string to be used within a regular expression to extract all tokens. Note that data is already tokenised so you could opt for a simple white space tokenisation.\n",
    "- `stop_words`: a list of stop words\n",
    "- `vocab`: a given vocabulary. It should be used to extract specific features.\n",
    "\n",
    "#### and returns:\n",
    "\n",
    "- a list of all extracted features.\n"
   ]
  },
  {
   "cell_type": "code",
   "execution_count": 9,
   "metadata": {
    "ExecuteTime": {
     "end_time": "2020-05-11T08:23:17.181553Z",
     "start_time": "2020-05-11T08:23:17.178314Z"
    },
    "scrolled": true
   },
   "outputs": [],
   "source": [
    "def extract_ngrams(x_raw, ngram_range=(1,3), token_pattern=r'\\b[A-Za-z][A-Za-z]+\\b', \n",
    "                   stop_words=[], vocab=set()):\n",
    "    \n",
    "    tokenRE = re.compile(token_pattern)\n",
    "    \n",
    "    # first extract all unigrams by tokenising\n",
    "    x_uni = [w for w in tokenRE.findall(str(x_raw).lower(),) if w not in stop_words]\n",
    "    \n",
    "    \n",
    "    # this is to store the ngrams to be returned\n",
    "    x = []\n",
    "    \n",
    "\n",
    "    \n",
    "    if ngram_range[0]==1:\n",
    "        x = x_uni\n",
    "\n",
    "\n",
    "    # generate n-grams from the available unigrams x_uni\n",
    "    ngrams = []\n",
    "    for n in range(ngram_range[0], ngram_range[1]+1):\n",
    "\n",
    "    # ignore unigrams\n",
    "        if n==1: continue\n",
    "\n",
    "        # pass a list of lists as an argument for zip\n",
    "        arg_list = [x_uni]+[x_uni[i:] for i in range(1, n)]\n",
    "\n",
    "        # extract tuples of n-grams using zip\n",
    "        # for bigram this should look: list(zip(x_uni, x_uni[1:]))\n",
    "        # align each item x[i] in x_uni with the next one x[i+1]. \n",
    "        # Note that x_uni and x_uni[1:] have different lenghts\n",
    "        # but zip ignores redundant elements at the end of the second list\n",
    "        # Alternatively, this could be done with for loops\n",
    "        x_ngram = list(zip(*arg_list))\n",
    "        ngrams.append(x_ngram)\n",
    "\n",
    "\n",
    "    for n in ngrams:\n",
    "        for t in n:\n",
    "            x.append(t)\n",
    "\n",
    "    if len(vocab)>0:\n",
    "        x = [w for w in x if w in vocab]\n",
    "        \n",
    "    return x"
   ]
  },
  {
   "cell_type": "code",
   "execution_count": 10,
   "metadata": {},
   "outputs": [
    {
     "name": "stdout",
     "output_type": "stream",
     "text": [
      "['reuters', 'venezuelans', 'turned', 'out', 'early', 'large', 'numbers', 'sunday', 'vote', 'historic']\n",
      "['govern', 'next', 'two']\n"
     ]
    }
   ],
   "source": [
    "#sample Bag of words/ngrams\n",
    "bow = extract_ngrams(train_data_txt[0], \n",
    "               ngram_range=(1,1), \n",
    "               stop_words=stop_words)\n",
    "print(bow[:10])\n",
    "print(bow[len(bow)-4:len(bow)-1])"
   ]
  },
  {
   "cell_type": "markdown",
   "metadata": {},
   "source": [
    "### Create a vocabulary of n-grams\n",
    "\n",
    "#### Then the `get_vocab` function will be used to (1) create a vocabulary of ngrams; (2) count the document frequencies of ngrams; (3) their raw frequency. It takes as input:\n",
    "- `X_raw`: a list of strings each corresponding to the raw text of a document\n",
    "- `ngram_range`: a tuple of two integers denoting the type of ngrams you want to extract, e.g. (1,2) denotes extracting unigrams and bigrams.\n",
    "- `token_pattern`: a string to be used within a regular expression to extract all tokens. Note that data is already tokenised so you could opt for a simple white space tokenisation.\n",
    "- `stop_words`: a list of stop words\n",
    "- `min_df`: keep ngrams with a minimum document frequency.\n",
    "- `keep_topN`: keep top-N more frequent ngrams.\n",
    "\n",
    "#### and returns:\n",
    "\n",
    "- `vocab`: a set of the n-grams that will be used as features.\n",
    "- `df`: a Counter (or dict) that contains ngrams as keys and their corresponding document frequency as values.\n",
    "- `ngram_counts`: counts of each ngram in vocab\n"
   ]
  },
  {
   "cell_type": "code",
   "execution_count": 11,
   "metadata": {
    "ExecuteTime": {
     "end_time": "2020-04-02T14:26:42.563876Z",
     "start_time": "2020-04-02T14:26:42.557967Z"
    },
    "scrolled": true
   },
   "outputs": [],
   "source": [
    "def get_vocab(X_raw, ngram_range=(1,3), token_pattern=r'\\b[A-Za-z][A-Za-z]+\\b', \n",
    "              min_df=0, keep_topN=0, \n",
    "              stop_words=[]):\n",
    "    \n",
    "    \n",
    "    tokenRE = re.compile(token_pattern)\n",
    "    \n",
    "    df = Counter()\n",
    "    ngram_counts = Counter()\n",
    "    vocab = set()\n",
    "    \n",
    "    # interate through each raw text\n",
    "    for x in X_raw:\n",
    "        \n",
    "        x_ngram = extract_ngrams(x, ngram_range=ngram_range, token_pattern=token_pattern, \n",
    "                                 stop_words=stop_words)\n",
    "        \n",
    "        #update doc and ngram frequencies \n",
    "        df.update(list(set(x_ngram)))\n",
    "        ngram_counts.update(x_ngram)\n",
    "\n",
    "    # obtain a vocabulary as a set. \n",
    "    # Keep elements with doc frequency > minimum doc freq (min_df)\n",
    "    # Note that df contains all te\n",
    "    vocab = set([w for w in df if df[w]>=min_df])\n",
    "    \n",
    "    # keep the top N most freqent \n",
    "    if keep_topN>0:\n",
    "        vocab = set([w[0] for w in ngram_counts.most_common(keep_topN) \n",
    "                     if w[0] in vocab])\n",
    "    \n",
    "    \n",
    "    return vocab, df, ngram_counts"
   ]
  },
  {
   "cell_type": "markdown",
   "metadata": {},
   "source": [
    "#### Now you should use `get_vocab` to create your vocabulary and get document and raw frequencies of unigrams:"
   ]
  },
  {
   "cell_type": "code",
   "execution_count": 12,
   "metadata": {
    "ExecuteTime": {
     "end_time": "2020-04-02T14:26:43.577997Z",
     "start_time": "2020-04-02T14:26:43.478950Z"
    },
    "scrolled": true
   },
   "outputs": [],
   "source": [
    "vocab_bow, df_bow, ngram_count_bow = get_vocab(train_data_txt, ngram_range=(1,1), min_df=3, keep_topN=2500, \n",
    "                                                      stop_words=stop_words)"
   ]
  },
  {
   "cell_type": "markdown",
   "metadata": {},
   "source": [
    "The vocabulary for sentiment analysis is created by choosing the parameters of min_df, keep_topN to be 3 and 2500 respectively so as to restrict the size of vocabulary and to reduce the sparcity of the feature vector matrix."
   ]
  },
  {
   "cell_type": "code",
   "execution_count": 13,
   "metadata": {},
   "outputs": [],
   "source": [
    "#len(vocab_bow)\n",
    "#vocab_bow"
   ]
  },
  {
   "cell_type": "markdown",
   "metadata": {},
   "source": [
    "#### Then, you need to create vocabulary id -> word and word -> vocabulary id dictionaries for reference:"
   ]
  },
  {
   "cell_type": "code",
   "execution_count": 14,
   "metadata": {
    "ExecuteTime": {
     "end_time": "2020-04-02T14:26:44.069661Z",
     "start_time": "2020-04-02T14:26:44.065058Z"
    },
    "scrolled": true
   },
   "outputs": [],
   "source": [
    "id2word_bow = {i:list(vocab_bow)[i] for i in range(len(vocab_bow))}\n",
    "word2id_bow = {list(vocab_bow)[i]:i for i in range(len(vocab_bow))}"
   ]
  },
  {
   "cell_type": "markdown",
   "metadata": {},
   "source": [
    "### Convert the list of unigrams  into a list of vocabulary indices"
   ]
  },
  {
   "cell_type": "markdown",
   "metadata": {},
   "source": [
    "Storing actual one-hot vectors into memory for all words in the entire data set is prohibitive. Instead, we will store word indices in the vocabulary and look-up the weight matrix. This is equivalent of doing a dot product between an one-hot vector and the weight matrix. \n",
    "\n",
    "#### First, represent documents in train, dev and test sets as lists of words in the vocabulary:"
   ]
  },
  {
   "cell_type": "code",
   "execution_count": 15,
   "metadata": {
    "ExecuteTime": {
     "end_time": "2020-04-02T14:26:45.047887Z",
     "start_time": "2020-04-02T14:26:44.920631Z"
    },
    "scrolled": true
   },
   "outputs": [],
   "source": [
    "#extraction of n-grams for each dataset\n",
    "train_bow = [extract_ngrams(train_data_txt[x],ngram_range=(1,1),stop_words=stop_words, \n",
    "                              vocab=vocab_bow) for x in range(0, len(train_data_txt))]\n",
    "\n",
    "dev_bow = [extract_ngrams(dev_data_txt[x],ngram_range=(1,1),stop_words=stop_words, \n",
    "                              vocab=vocab_bow) for x in range(0, len(dev_data_txt))]\n",
    "\n",
    "test_bow = [extract_ngrams(test_data_txt[x],ngram_range=(1,1),stop_words=stop_words, \n",
    "                              vocab=vocab_bow) for x in range(0, len(test_data_txt))]"
   ]
  },
  {
   "cell_type": "code",
   "execution_count": 16,
   "metadata": {},
   "outputs": [
    {
     "data": {
      "text/plain": [
       "['reuters',\n",
       " 'rwandan',\n",
       " 'troops',\n",
       " 'sunday',\n",
       " 'sudan',\n",
       " 'darfur',\n",
       " 'first',\n",
       " 'foreign',\n",
       " 'force',\n",
       " 'protect',\n",
       " 'observers',\n",
       " 'monitoring',\n",
       " 'cease',\n",
       " 'fire',\n",
       " 'between',\n",
       " 'sudanese',\n",
       " 'government',\n",
       " 'rebels',\n",
       " 'troubled',\n",
       " 'western',\n",
       " 'region']"
      ]
     },
     "execution_count": 16,
     "metadata": {},
     "output_type": "execute_result"
    }
   ],
   "source": [
    "#sample extracted n-grams of the document\n",
    "train_bow[5]"
   ]
  },
  {
   "cell_type": "markdown",
   "metadata": {},
   "source": [
    "#### Then convert them into lists of indices in the vocabulary:"
   ]
  },
  {
   "cell_type": "code",
   "execution_count": 17,
   "metadata": {
    "ExecuteTime": {
     "end_time": "2020-04-02T14:26:45.752658Z",
     "start_time": "2020-04-02T14:26:45.730409Z"
    },
    "scrolled": true
   },
   "outputs": [],
   "source": [
    "#conversion of bow to bow indices for each dataset\n",
    "train_boi = [[word2id_bow.get(item,item)  for item in doc] for doc in train_bow]\n",
    "dev_boi = [[word2id_bow.get(item,item)  for item in doc] for doc in dev_bow]\n",
    "test_boi = [[word2id_bow.get(item,item)  for item in doc] for doc in test_bow]"
   ]
  },
  {
   "cell_type": "code",
   "execution_count": 18,
   "metadata": {},
   "outputs": [
    {
     "data": {
      "text/plain": [
       "[64,\n",
       " 2333,\n",
       " 1581,\n",
       " 107,\n",
       " 828,\n",
       " 1013,\n",
       " 540,\n",
       " 860,\n",
       " 2344,\n",
       " 1932,\n",
       " 1974,\n",
       " 471,\n",
       " 1632,\n",
       " 1398,\n",
       " 534,\n",
       " 1655,\n",
       " 1536,\n",
       " 1552,\n",
       " 1225,\n",
       " 2076,\n",
       " 1389]"
      ]
     },
     "execution_count": 18,
     "metadata": {},
     "output_type": "execute_result"
    }
   ],
   "source": [
    "#sample list of word indices of the document\n",
    "train_boi[5]"
   ]
  },
  {
   "cell_type": "markdown",
   "metadata": {},
   "source": [
    "#### Put the labels `Y` for train, dev and test sets into arrays: "
   ]
  },
  {
   "cell_type": "code",
   "execution_count": 19,
   "metadata": {
    "ExecuteTime": {
     "end_time": "2020-04-02T15:03:13.183996Z",
     "start_time": "2020-04-02T15:03:13.077575Z"
    },
    "scrolled": true
   },
   "outputs": [],
   "source": [
    "#create label variables\n",
    "train_data_lbl = np.array(train_data[0])\n",
    "dev_data_lbl = np.array(dev_data[0])\n",
    "test_data_lbl = np.array(test_data[0])"
   ]
  },
  {
   "cell_type": "markdown",
   "metadata": {},
   "source": [
    "# Network Architecture\n",
    "\n",
    "Your network should pass each word index into its corresponding embedding by looking-up on the embedding matrix and then compute the first hidden layer $\\mathbf{h}_1$:\n",
    "\n",
    "$$\\mathbf{h}_1 = \\frac{1}{|x|}\\sum_i W^e_i, i \\in x$$\n",
    "\n",
    "where $|x|$ is the number of words in the document and $W^e$ is an embedding matrix $|V|\\times d$, $|V|$ is the size of the vocabulary and $d$ the embedding size.\n",
    "\n",
    "Then $\\mathbf{h}_1$ should be passed through a ReLU activation function:\n",
    "\n",
    "$$\\mathbf{a}_1 = relu(\\mathbf{h}_1)$$\n",
    "\n",
    "Finally the hidden layer is passed to the output layer:\n",
    "\n",
    "\n",
    "$$\\mathbf{y} = \\text{softmax}(\\mathbf{a}_1W) $$ \n",
    "where $W$ is a matrix $d \\times |{\\cal Y}|$, $|{\\cal Y}|$ is the number of classes.\n",
    "\n",
    "During training, $\\mathbf{a}_1$ should be multiplied with a dropout mask vector (elementwise) for regularisation before it is passed to the output layer.\n",
    "\n",
    "You can extend to a deeper architecture by passing a hidden layer to another one:\n",
    "\n",
    "$$\\mathbf{h_i} = \\mathbf{a}_{i-1}W_i $$\n",
    "\n",
    "$$\\mathbf{a_i} = relu(\\mathbf{h_i}) $$\n",
    "\n"
   ]
  },
  {
   "cell_type": "markdown",
   "metadata": {},
   "source": [
    "# Network Training\n",
    "\n",
    "#### First we need to define the parameters of our network by initiliasing the weight matrices. For that purpose, you should implement the `network_weights` function that takes as input:\n",
    "\n",
    "- `vocab_size`: the size of the vocabulary\n",
    "- `embedding_dim`: the size of the word embeddings\n",
    "- `hidden_dim`: a list of the sizes of any subsequent hidden layers. Empty if there are no hidden layers between the average embedding and the output layer \n",
    "- `num_classes`: the number of the classes for the output layer\n",
    "\n",
    "#### and returns:\n",
    "\n",
    "- `W`: a dictionary mapping from layer index (e.g. 0 for the embedding matrix) to the corresponding weight matrix initialised with small random numbers (hint: use numpy.random.uniform with from -0.1 to 0.1)\n",
    "\n",
    "Make sure that the dimensionality of each weight matrix is compatible with the previous and next weight matrix, otherwise you won't be able to perform forward and backward passes. Consider also using np.float32 precision to save memory."
   ]
  },
  {
   "cell_type": "code",
   "execution_count": 20,
   "metadata": {
    "ExecuteTime": {
     "end_time": "2020-04-02T15:41:20.918617Z",
     "start_time": "2020-04-02T15:41:20.915597Z"
    },
    "scrolled": true
   },
   "outputs": [],
   "source": [
    "def network_weights(vocab_size=1000, embedding_dim=300, \n",
    "                    hidden_dim=[], num_classes=3, init_val = 0.5):\n",
    "    W = {}\n",
    "    for i in range(0,len(hidden_dim)+1):\n",
    "        if i == 0:\n",
    "            W[i] = np.random.uniform(-init_val,init_val,(vocab_size,embedding_dim)).astype('float32')\n",
    "        elif i == 1:\n",
    "            W[i] = np.random.uniform(-init_val,init_val,(embedding_dim,hidden_dim[i-1])).astype('float32')\n",
    "        else:\n",
    "            W[i] = np.random.uniform(-init_val,init_val,(hidden_dim[i-2],hidden_dim[i-1])).astype('float32')\n",
    "    \n",
    "    #weights for the output layer\n",
    "    if len(hidden_dim) == 0:\n",
    "        W[len(hidden_dim)+1] = np.random.uniform(-init_val,init_val,(embedding_dim,num_classes)).astype('float32')\n",
    "    else:\n",
    "        W[len(hidden_dim)+1] = np.random.uniform(-init_val,init_val,(hidden_dim[-1],num_classes)).astype('float32')\n",
    "    \n",
    "    return W"
   ]
  },
  {
   "cell_type": "code",
   "execution_count": 21,
   "metadata": {
    "ExecuteTime": {
     "end_time": "2020-04-02T14:26:48.636732Z",
     "start_time": "2020-04-02T14:26:48.634122Z"
    },
    "scrolled": true
   },
   "outputs": [],
   "source": [
    "#W = network_weights(vocab_size=len(vocab_bow),embedding_dim=300,hidden_dim=[], num_classes=3)\n",
    "#print('W_0:', W[0].shape)\n",
    "#print('W_out:', W[1].shape)"
   ]
  },
  {
   "cell_type": "markdown",
   "metadata": {
    "ExecuteTime": {
     "end_time": "2020-04-01T10:31:57.970152Z",
     "start_time": "2020-04-01T10:31:57.966123Z"
    }
   },
   "source": [
    "#### Then you need to develop a `softmax` function (same as in Assignment 1) to be used in the output layer. \n",
    "\n",
    "It takes as input `z` (array of real numbers) and returns `sig` (the softmax of `z`)\n",
    "\n"
   ]
  },
  {
   "cell_type": "code",
   "execution_count": 22,
   "metadata": {},
   "outputs": [],
   "source": [
    "def softmax(z):\n",
    "    num = np.exp(z)\n",
    "    sum_num = np.sum(num, axis=0)\n",
    "    sig = num/sum_num\n",
    "    return sig"
   ]
  },
  {
   "cell_type": "markdown",
   "metadata": {},
   "source": [
    "#### Now you need to implement the categorical cross entropy loss by slightly modifying the function from Assignment 1 to depend only on the true label `y` and the class probabilities vector `y_preds`:\n"
   ]
  },
  {
   "cell_type": "code",
   "execution_count": 23,
   "metadata": {
    "ExecuteTime": {
     "end_time": "2020-04-02T14:26:51.360838Z",
     "start_time": "2020-04-02T14:26:51.356935Z"
    },
    "scrolled": true
   },
   "outputs": [],
   "source": [
    "def categorical_loss(y, y_preds):\n",
    "    y_preds = np.where(y_preds==0.0, 1e-5, y_preds)\n",
    "    y_preds_up = np.where(y_preds==1.0, 0.99999, y_preds)\n",
    "    l = -np.log(y_preds_up[y-1])\n",
    "    return l"
   ]
  },
  {
   "cell_type": "markdown",
   "metadata": {
    "ExecuteTime": {
     "end_time": "2020-03-31T15:02:56.149535Z",
     "start_time": "2020-03-31T15:02:56.145738Z"
    }
   },
   "source": [
    "#### Then, implement the `relu` function to introduce non-linearity after each hidden layer of your network \n",
    "(during the forward pass): \n",
    "\n",
    "$$relu(z_i)= max(z_i,0)$$\n",
    "\n",
    "#### and the `relu_derivative` function to compute its derivative (used in the backward pass):\n",
    "\n",
    "  \n",
    "  relu_derivative($z_i$)=0, if $z_i$<=0, 1 otherwise.\n",
    "  \n",
    "\n",
    "\n",
    "Note that both functions take as input a vector $z$ \n",
    "\n",
    "Hint use .copy() to avoid in place changes in array z"
   ]
  },
  {
   "cell_type": "code",
   "execution_count": 24,
   "metadata": {
    "ExecuteTime": {
     "end_time": "2020-04-02T14:26:52.665236Z",
     "start_time": "2020-04-02T14:26:52.661519Z"
    },
    "scrolled": true
   },
   "outputs": [],
   "source": [
    "def relu(z):\n",
    "    a = np.maximum(z,0)\n",
    "    return a\n",
    "    \n",
    "def relu_derivative(z):\n",
    "    dz = z.copy()\n",
    "    dz[z <= 0] = 0;\n",
    "    dz[z > 0] = 1;\n",
    "    return dz"
   ]
  },
  {
   "cell_type": "markdown",
   "metadata": {},
   "source": [
    "#### During training you should also apply a dropout mask element-wise after the activation function (i.e. vector of ones with a random percentage set to zero). The `dropout_mask` function takes as input:\n",
    "\n",
    "- `size`: the size of the vector that we want to apply dropout\n",
    "- `dropout_rate`: the percentage of elements that will be randomly set to zeros\n",
    "\n",
    "#### and returns:\n",
    "\n",
    "- `dropout_vec`: a vector with binary values (0 or 1)"
   ]
  },
  {
   "cell_type": "code",
   "execution_count": 25,
   "metadata": {
    "ExecuteTime": {
     "end_time": "2020-04-02T14:26:53.429192Z",
     "start_time": "2020-04-02T14:26:53.425301Z"
    },
    "scrolled": true
   },
   "outputs": [],
   "source": [
    "def dropout_mask(size, dropout_rate):\n",
    "    \n",
    "    dropout_vec = np.ones(size, dtype=float)\n",
    "    idx = np.random.choice(range(size), round(size*dropout_rate), replace=False)\n",
    "    #rounding to the integer value\n",
    "    dropout_vec[idx] = 0\n",
    "    \n",
    "    return dropout_vec   "
   ]
  },
  {
   "cell_type": "code",
   "execution_count": 26,
   "metadata": {
    "ExecuteTime": {
     "end_time": "2020-04-02T14:26:53.853632Z",
     "start_time": "2020-04-02T14:26:53.849944Z"
    },
    "scrolled": true
   },
   "outputs": [
    {
     "name": "stdout",
     "output_type": "stream",
     "text": [
      "[0. 1. 1. 1. 0. 1. 1. 1. 1. 1.]\n",
      "[1. 1. 1. 0. 1. 0. 1. 1. 1. 1.]\n"
     ]
    }
   ],
   "source": [
    "print(dropout_mask(10, 0.2))\n",
    "print(dropout_mask(10, 0.2))"
   ]
  },
  {
   "cell_type": "markdown",
   "metadata": {},
   "source": [
    "#### Now you need to implement the `forward_pass` function that passes the input x through the network up to the output layer for computing the probability for each class using the weight matrices in `W`. The ReLU activation function should be applied on each hidden layer. \n",
    "\n",
    "- `x`: a list of vocabulary indices each corresponding to a word in the document (input)\n",
    "- `W`: a list of weight matrices connecting each part of the network, e.g. for a network with a hidden and an output layer: W[0] is the weight matrix that connects the input to the first hidden layer, W[1] is the weight matrix that connects the hidden layer to the output layer.\n",
    "- `dropout_rate`: the dropout rate that is used to generate a random dropout mask vector applied after each hidden layer for regularisation.\n",
    "\n",
    "#### and returns:\n",
    "\n",
    "- `out_vals`: a dictionary of output values from each layer: h (the vector before the activation function), a (the resulting vector after passing h from the activation function), its dropout mask vector; and the prediction vector (probability for each class) from the output layer."
   ]
  },
  {
   "cell_type": "code",
   "execution_count": 27,
   "metadata": {
    "ExecuteTime": {
     "end_time": "2020-04-02T14:26:54.761268Z",
     "start_time": "2020-04-02T14:26:54.753402Z"
    },
    "scrolled": true
   },
   "outputs": [],
   "source": [
    "def forward_pass(x, W, dropout_rate=0.2):\n",
    "    \n",
    "    out_vals = {}\n",
    "    h_vecs = []\n",
    "    a_vecs = []\n",
    "    dropout_vecs = []\n",
    "    \n",
    "    for layer in range(len(W)-1):\n",
    "        if layer == 0:\n",
    "            w_vec = [W[layer][indx] for indx in x]\n",
    "            h_i = np.sum(w_vec,axis=0)/len(x)\n",
    "        else:\n",
    "            h_i = np.dot(ad_i, W[layer])\n",
    "        h_vecs.append(h_i)\n",
    "        a_i = relu(h_i)\n",
    "        a_vecs.append(a_i)    \n",
    "        #print(a_i)\n",
    "        #print(a_vecs)\n",
    "        d_i = dropout_mask(len(a_i), dropout_rate)\n",
    "        dropout_vecs.append(d_i)\n",
    "        ad_i = np.multiply(a_i, d_i) #activation output with dropout\n",
    "        \n",
    "    #predictions at the output layer\n",
    "    pred = softmax(np.dot(ad_i,W[len(W)-1]))\n",
    "    \n",
    "    out_vals['h'] = h_vecs\n",
    "    out_vals['a'] = a_vecs\n",
    "    out_vals['d'] = dropout_vecs\n",
    "    out_vals['y_pred'] = pred \n",
    "    \n",
    "    return out_vals\n",
    "    "
   ]
  },
  {
   "cell_type": "markdown",
   "metadata": {},
   "source": [
    "#### The `backward_pass` function computes the gradients and updates the weights for each matrix in the network from the output to the input. It takes as input \n",
    "\n",
    "- `x`: a list of vocabulary indices each corresponding to a word in the document (input)\n",
    "- `y`: the true label\n",
    "- `W`: a list of weight matrices connecting each part of the network, e.g. for a network with a hidden and an output layer: W[0] is the weight matrix that connects the input to the first hidden layer, W[1] is the weight matrix that connects the hidden layer to the output layer.\n",
    "- `out_vals`: a dictionary of output values from a forward pass.\n",
    "- `learning_rate`: the learning rate for updating the weights.\n",
    "- `freeze_emb`: boolean value indicating whether the embedding weights will be updated.\n",
    "\n",
    "#### and returns:\n",
    "\n",
    "- `W`: the updated weights of the network.\n",
    "\n",
    "Hint: the gradients on the output layer are similar to the multiclass logistic regression."
   ]
  },
  {
   "cell_type": "code",
   "execution_count": 28,
   "metadata": {},
   "outputs": [],
   "source": [
    "def backward_pass(x, y, W, out_vals, lr=0.001, freeze_emb=False):\n",
    "    \n",
    "    for layer in range(len(W)-1,0,-1):\n",
    "        if layer == len(W)-1:\n",
    "            y_cls = np.zeros(W[layer].shape[1])\n",
    "            y_cls[y-1] = 1\n",
    "            g_l = out_vals['y_pred'] - y_cls\n",
    "            ad_l = np.multiply(out_vals['a'][-1],out_vals['d'][-1]).reshape(W[layer].shape[0],1)\n",
    "            dw_l = np.dot(ad_l, g_l.reshape(1,W[layer].shape[1]))\n",
    "            g_l = np.multiply(np.dot(W[layer],g_l).reshape(1,W[layer].shape[0]), out_vals['d'][layer-1])\n",
    "            W[layer] = W[layer] - lr*dw_l\n",
    "        else:  \n",
    "            g_l = np.multiply(g_l, relu_derivative(out_vals['h'][layer]).reshape(1, W[layer+1].shape[0]))\n",
    "            ad_l = np.multiply(out_vals['a'][layer-1], out_vals['d'][layer-1]).reshape(W[layer].shape[0],1)\n",
    "            dw_l = np.dot(ad_l, g_l)\n",
    "            g_l = np.multiply(np.dot(W[layer],g_l.T).reshape(1,W[layer].shape[0]), out_vals['d'][layer-1])\n",
    "            W[layer] = W[layer] - lr*dw_l\n",
    "        \n",
    "    if not freeze_emb:\n",
    "        x_en = np.zeros([W[0].shape[0],1])\n",
    "        x_en[x] = 1\n",
    "        g_l = g_l * relu_derivative(out_vals['h'][0]).reshape(1, W[0].shape[1])\n",
    "        dw_l = np.dot(x_en,g_l)\n",
    "        W[0] = W[0] - lr*dw_l\n",
    "        \n",
    "    return W\n"
   ]
  },
  {
   "cell_type": "markdown",
   "metadata": {
    "ExecuteTime": {
     "end_time": "2020-02-15T14:08:59.937442Z",
     "start_time": "2020-02-15T14:08:59.932221Z"
    }
   },
   "source": [
    "#### Finally you need to modify SGD to support back-propagation by using the `forward_pass` and `backward_pass` functions.\n",
    "\n",
    "#### The `SGD` function takes as input:\n",
    "\n",
    "- `X_tr`: array of training data (vectors)\n",
    "- `Y_tr`: labels of `X_tr`\n",
    "- `W`: the weights of the network (dictionary)\n",
    "- `X_dev`: array of development (i.e. validation) data (vectors)\n",
    "- `Y_dev`: labels of `X_dev`\n",
    "- `lr`: learning rate\n",
    "- `dropout`: regularisation strength\n",
    "- `epochs`: number of full passes over the training data\n",
    "- `tolerance`: stop training if the difference between the current and previous validation loss is smaller than a threshold\n",
    "- `freeze_emb`: boolean value indicating whether the embedding weights will be updated (to be used by the backward pass function).\n",
    "- `print_progress`: flag for printing the training progress (train/validation loss)\n",
    "\n",
    "\n",
    "#### and returns:\n",
    "\n",
    "- `weights`: the weights learned\n",
    "- `training_loss_history`: an array with the average losses of the whole training set after each epoch\n",
    "- `validation_loss_history`: an array with the average losses of the whole development set after each epoch"
   ]
  },
  {
   "cell_type": "code",
   "execution_count": 29,
   "metadata": {},
   "outputs": [],
   "source": [
    "def SGD(X_tr, Y_tr, W, X_dev=[], Y_dev=[], lr=0.001, \n",
    "        dropout=0.2, epochs=5, tolerance=0.001, freeze_emb=False, \n",
    "        print_progress=True):\n",
    "    training_loss_history = []\n",
    "    validation_loss_history = []\n",
    "    stop_train = False\n",
    "    for epoch in range(epochs):  # loop over the dataset multiple times\n",
    "        #randomise train set\n",
    "        index = list(range(len(X_tr)))\n",
    "        random.Random(epoch).shuffle(index)\n",
    "        x_tr  = (np.array(X_tr)[index]).tolist()\n",
    "        y_tr = Y_tr[index]\n",
    "        \n",
    "        running_loss = 0.0\n",
    "        loss = 0.0\n",
    "        le_tr = len(x_tr)\n",
    "        for i in range(len(X_tr)):\n",
    "            if len(x_tr[i]) != 0: #check for empty indices input\n",
    "                out_vals = forward_pass(x_tr[i], W, dropout_rate=dropout)\n",
    "                W = backward_pass(x_tr[i], y_tr[i], W, out_vals, lr=lr, freeze_emb=freeze_emb)\n",
    "                running_loss = categorical_loss(y_tr[i], out_vals['y_pred'])\n",
    "                loss += running_loss \n",
    "            else:\n",
    "                le_tr = le_tr-1  #if empty reducing the size of the input\n",
    "        #training\n",
    "        avg_loss = loss/le_tr\n",
    "        training_loss_history.append(avg_loss)\n",
    "        \n",
    "        # print progress\n",
    "        if(print_progress):\n",
    "            print('train_epoch: %d, loss: %.4f' % (epoch + 1, avg_loss))\n",
    "            \n",
    "        #validation\n",
    "        if len(X_dev) !=0 and len(Y_dev) !=0: \n",
    "            running_loss_dev = 0.0\n",
    "            loss_dev = 0.0\n",
    "            le_dev = len(X_dev)\n",
    "            for i in range(len(X_dev)):\n",
    "                if len(X_dev[i]) != 0:\n",
    "                    out_vals = forward_pass(X_dev[i], W, dropout_rate=dropout)\n",
    "                    running_loss_dev = categorical_loss(Y_dev[i],out_vals['y_pred'])\n",
    "                    loss_dev += running_loss_dev\n",
    "                else:\n",
    "                    le_dev = le_dev-1\n",
    "            avg_loss_dev = loss_dev/le_dev\n",
    "            validation_loss_history.append(avg_loss_dev)    \n",
    "            # print progress\n",
    "            if(print_progress):\n",
    "                print('dev_epoch: %d, loss: %.4f' % (epoch + 1, avg_loss_dev))\n",
    "        \n",
    "            if (epoch > 3 and abs(validation_loss_history[epoch-1] - validation_loss_history[epoch]) < tolerance):\n",
    "                break\n",
    "    \n",
    "    training_loss_history = np.array(training_loss_history)\n",
    "    validation_loss_history = np.array(validation_loss_history)\n",
    "    \n",
    "    return W, training_loss_history, validation_loss_history"
   ]
  },
  {
   "cell_type": "markdown",
   "metadata": {
    "ExecuteTime": {
     "end_time": "2020-02-15T14:10:15.772383Z",
     "start_time": "2020-02-15T14:10:15.767855Z"
    }
   },
   "source": [
    "#### Now you are ready to train and evaluate your neural net. First, you need to define your network using the `network_weights` function followed by SGD with backprop:"
   ]
  },
  {
   "cell_type": "code",
   "execution_count": 30,
   "metadata": {
    "ExecuteTime": {
     "end_time": "2020-04-02T15:09:33.643515Z",
     "start_time": "2020-04-02T15:09:33.640943Z"
    },
    "scrolled": true
   },
   "outputs": [
    {
     "name": "stdout",
     "output_type": "stream",
     "text": [
      "Shape W0 (2492, 300)\n",
      "Shape W1 (300, 3)\n",
      "train_epoch: 1, loss: 1.0978\n",
      "dev_epoch: 1, loss: 1.0984\n",
      "train_epoch: 2, loss: 1.0956\n",
      "dev_epoch: 2, loss: 1.0952\n",
      "train_epoch: 3, loss: 1.0930\n",
      "dev_epoch: 3, loss: 1.0940\n",
      "train_epoch: 4, loss: 1.0905\n",
      "dev_epoch: 4, loss: 1.0926\n",
      "train_epoch: 5, loss: 1.0878\n",
      "dev_epoch: 5, loss: 1.0908\n"
     ]
    }
   ],
   "source": [
    "W_int = network_weights(vocab_size=len(vocab_bow),embedding_dim=300,\n",
    "                    hidden_dim=[], num_classes=3, init_val=0.1)\n",
    "\n",
    "for i in range(len(W_int)):\n",
    "    print('Shape W'+str(i), W_int[i].shape)\n",
    "\n",
    "W, loss_tr, dev_loss = SGD(train_boi, train_data_lbl,\n",
    "                            W_int,\n",
    "                            X_dev=dev_boi, \n",
    "                            Y_dev=dev_data_lbl,\n",
    "                            lr=0.001, \n",
    "                            dropout=0.2,\n",
    "                            freeze_emb=False,\n",
    "                            tolerance=0.01,\n",
    "                            epochs=100)\n"
   ]
  },
  {
   "cell_type": "markdown",
   "metadata": {},
   "source": [
    "#### Plot the learning process:"
   ]
  },
  {
   "cell_type": "code",
   "execution_count": 31,
   "metadata": {
    "ExecuteTime": {
     "end_time": "2020-04-02T14:27:15.716497Z",
     "start_time": "2020-04-02T14:27:15.612736Z"
    },
    "scrolled": true
   },
   "outputs": [],
   "source": [
    "#function to plot the training and validation loss history\n",
    "def plot_loss(training_loss, validation_loss):\n",
    "    epochs = np.linspace(1,len(training_loss),len(training_loss))\n",
    "    plt.plot(epochs, training_loss, 'g', label='Training loss')\n",
    "    plt.plot(epochs, validation_loss, 'b', label='validation loss')\n",
    "    plt.title('Training and Validation loss')\n",
    "    plt.xlabel('Epochs')\n",
    "    plt.ylabel('Loss')\n",
    "    plt.legend()\n",
    "    plt.show()"
   ]
  },
  {
   "cell_type": "code",
   "execution_count": 32,
   "metadata": {},
   "outputs": [
    {
     "data": {
      "image/png": "[encoded data removed]",
      "text/plain": [
       "<Figure size 432x288 with 1 Axes>"
      ]
     },
     "metadata": {
      "needs_background": "light"
     },
     "output_type": "display_data"
    }
   ],
   "source": [
    "plot_loss(loss_tr, dev_loss)"
   ]
  },
  {
   "cell_type": "markdown",
   "metadata": {},
   "source": [
    "#### Compute accuracy, precision, recall and F1-Score:"
   ]
  },
  {
   "cell_type": "code",
   "execution_count": 33,
   "metadata": {},
   "outputs": [],
   "source": [
    "def get_evaluation_metrics(X, Y, W):\n",
    "    preds_te = []\n",
    "    y_input = Y\n",
    "    for i in range(len(X)):\n",
    "        if len(X[i]) != 0:  # check for empty input of indices\n",
    "            preds_te.append(np.argmax(forward_pass(X[i], W, dropout_rate=0.0)['y_pred'])+1) #added '+1' to indicate the correct class label\n",
    "        else:   \n",
    "            y_input = np.delete(y_input, i)\n",
    "    print('Accuracy:', accuracy_score(y_input,preds_te))\n",
    "    print('Precision:', precision_score(y_input,preds_te,average='macro'))\n",
    "    print('Recall:', recall_score(y_input,preds_te,average='macro'))\n",
    "    print('F1-Score:', f1_score(y_input,preds_te,average='macro'))"
   ]
  },
  {
   "cell_type": "code",
   "execution_count": 34,
   "metadata": {},
   "outputs": [
    {
     "name": "stdout",
     "output_type": "stream",
     "text": [
      "Accuracy: 0.6333333333333333\n",
      "Precision: 0.6742870500233754\n",
      "Recall: 0.6333333333333334\n",
      "F1-Score: 0.6198410334949941\n"
     ]
    }
   ],
   "source": [
    "#evaluation of metrics on the validation data\n",
    "get_evaluation_metrics(dev_boi, dev_data_lbl, W)"
   ]
  },
  {
   "cell_type": "code",
   "execution_count": 35,
   "metadata": {
    "ExecuteTime": {
     "end_time": "2020-04-02T15:10:11.037495Z",
     "start_time": "2020-04-02T15:10:11.034999Z"
    },
    "scrolled": true
   },
   "outputs": [
    {
     "name": "stdout",
     "output_type": "stream",
     "text": [
      "Accuracy: 0.6618464961067854\n",
      "Precision: 0.6816487024737411\n",
      "Recall: 0.6615198810850984\n",
      "F1-Score: 0.6427287572304755\n"
     ]
    }
   ],
   "source": [
    "#evaluation of metrics on the test data\n",
    "get_evaluation_metrics(test_boi, test_data_lbl, W)"
   ]
  },
  {
   "cell_type": "markdown",
   "metadata": {},
   "source": [
    "### Discuss how did you choose model hyperparameters ? "
   ]
  },
  {
   "cell_type": "code",
   "execution_count": 36,
   "metadata": {},
   "outputs": [],
   "source": [
    "random.seed(123)\n",
    "np.random.seed(123)"
   ]
  },
  {
   "cell_type": "code",
   "execution_count": 37,
   "metadata": {},
   "outputs": [],
   "source": [
    "lr=[0.001,0.01,0.1] \n",
    "epochs=[30,50,100] \n",
    "tolerance=[0.01]\n",
    "dropout = [0.2, 0.5, 0.7]\n",
    "embedding_dim = [100, 300, 500]\n",
    "hidden_dim = []"
   ]
  },
  {
   "cell_type": "code",
   "execution_count": 38,
   "metadata": {
    "scrolled": true
   },
   "outputs": [],
   "source": [
    "# Implementation of hyperparameter tuning\n",
    "\n",
    "def hypertune(X_tr, Y_tr, X_dev, Y_dev, iterate=10, print_metrics=True, use_pretrained=False):\n",
    "    eval_ht = [] \n",
    "    param_ht = []\n",
    "    hd_d = []\n",
    "    for i in range(iterate):\n",
    "        a,b,c,d = random.Random(i).choices(range(3), k=4)\n",
    "        if len(embedding_dim) == 1:\n",
    "            a = 0\n",
    "        if len(epochs) == 1:\n",
    "            d = 0\n",
    "        if len(hidden_dim) != 0:\n",
    "            hd_d = hidden_dim[random.Random(i).choice(range(len(hidden_dim)))]\n",
    "        w = network_weights(vocab_size=len(vocab_bow),embedding_dim=embedding_dim[a], hidden_dim=hd_d, num_classes=3, init_val = 0.1)\n",
    "        if use_pretrained:\n",
    "            w[0] = w_glove\n",
    "            w, tl, vl = SGD(X_tr, Y_tr, w, X_dev, Y_dev, lr[b], dropout[c], epochs=epochs[d], freeze_emb=True, tolerance=0.01, print_progress=False)\n",
    "        else:\n",
    "            w, tl, vl = SGD(X_tr, Y_tr, w, X_dev, Y_dev, lr[b], dropout[c], epochs=epochs[d], freeze_emb=False, tolerance=0.01, print_progress=False)\n",
    "        #training_loss_ht.append(tl)\n",
    "        #validation_loss_ht.append(vl)\n",
    "        preds_te = [np.argmax(forward_pass(x, w, dropout_rate=0.0)['y_pred'])+1 \n",
    "            for x,y in zip(X_dev,Y_dev)]\n",
    "        eval_dict = {'Ac':accuracy_score(Y_dev,preds_te), 'Pr':precision_score(Y_dev,preds_te,average='macro'),\n",
    "                  'Re':recall_score(Y_dev,preds_te,average='macro'), 'F1':f1_score(Y_dev,preds_te,average='macro')}\n",
    "        eval_ht.append(eval_dict)\n",
    "        param_ht.append({'lr':lr[b], 'epochs':epochs[d], 'dropout':dropout[c], 'embedding_dim': embedding_dim[a], 'hidden_dim': hd_d, \n",
    "                         'epochs_threshold_dev':len(vl)})\n",
    "\n",
    "    indx = sorted(range(len(eval_ht)), key=lambda k: eval_ht[k]['Ac'], reverse=True)\n",
    "\n",
    "    eval_ht_sorted = [eval_ht[i] for i in indx]\n",
    "    param_ht_sorted = [param_ht[i] for i in indx]\n",
    "\n",
    "    if print_metrics:\n",
    "        print(\"Evaluation Metrics:\", np.array(eval_ht_sorted[:5]))\n",
    "        print(\"\\nParameters:\", np.array(param_ht_sorted[:5]))"
   ]
  },
  {
   "cell_type": "code",
   "execution_count": 40,
   "metadata": {},
   "outputs": [
    {
     "name": "stdout",
     "output_type": "stream",
     "text": [
      "Evaluation Metrics: [{'Ac': 0.9133333333333333, 'Pr': 0.9178000053776452, 'Re': 0.9133333333333334, 'F1': 0.9143278018278019}\n",
      " {'Ac': 0.9066666666666666, 'Pr': 0.912396480331263, 'Re': 0.9066666666666667, 'F1': 0.9079306250802207}\n",
      " {'Ac': 0.9066666666666666, 'Pr': 0.912396480331263, 'Re': 0.9066666666666667, 'F1': 0.9079306250802207}\n",
      " {'Ac': 0.9, 'Pr': 0.9074317738791423, 'Re': 0.9, 'F1': 0.9014987401748696}\n",
      " {'Ac': 0.9, 'Pr': 0.9074317738791423, 'Re': 0.9, 'F1': 0.9014987401748696}]\n",
      "\n",
      "Parameters: [{'lr': 0.01, 'epochs': 30, 'dropout': 0.7, 'embedding_dim': 300, 'hidden_dim': [], 'epochs_threshold_dev': 22}\n",
      " {'lr': 0.01, 'epochs': 30, 'dropout': 0.5, 'embedding_dim': 100, 'hidden_dim': [], 'epochs_threshold_dev': 15}\n",
      " {'lr': 0.01, 'epochs': 100, 'dropout': 0.5, 'embedding_dim': 500, 'hidden_dim': [], 'epochs_threshold_dev': 19}\n",
      " {'lr': 0.01, 'epochs': 50, 'dropout': 0.5, 'embedding_dim': 100, 'hidden_dim': [], 'epochs_threshold_dev': 16}\n",
      " {'lr': 0.01, 'epochs': 100, 'dropout': 0.2, 'embedding_dim': 300, 'hidden_dim': [], 'epochs_threshold_dev': 10}]\n"
     ]
    }
   ],
   "source": [
    "##hypertuning with subset of randomly chosen values of all possible iterations (81)\n",
    "#hypertune(train_boi, train_data_lbl, dev_boi, dev_data_lbl, 50, True)"
   ]
  },
  {
   "cell_type": "markdown",
   "metadata": {},
   "source": [
    "Below is the table with top 5 best performed combinations of hypertuned parameters\n",
    "\n",
    "|  | lr  | dropout  | embedding_dim | accuracy  | f1-score  | epoch  |\n",
    "|:-:|:-:|:-:|:-:|:-:|:-:|:-:|\n",
    "| 1  | 0.01  | 0.7  | 300 | 0.9133  | 0.9143 |  30 |\n",
    "| 2  | 0.01  | 0.5  | 100 | 0.9066  | 0.9079  | 30  |\n",
    "| 3  | 0.01  | 0.5  | 500 | 0.9066  | 0.9079  | 100  |\n",
    "| 4  | 0.01  | 0.5  | 100 | 0.9074  | 0.9014  | 50  |\n",
    "| 5  | 0.01  | 0.2  | 300 | 0.9074  | 0.9014  | 100  |\n",
    "\n",
    "Accuracy and the F-1 score of the validation is improved with hypertuning. The best performance for validation is achieved with higher dropout_rate (0.7) and learning rate(0.01), and the default value for embedding_dim(300) and epochs(30). "
   ]
  },
  {
   "cell_type": "code",
   "execution_count": 41,
   "metadata": {},
   "outputs": [
    {
     "name": "stdout",
     "output_type": "stream",
     "text": [
      "train_epoch: 1, loss: 1.0972\n",
      "dev_epoch: 1, loss: 1.0959\n",
      "train_epoch: 2, loss: 1.0936\n",
      "dev_epoch: 2, loss: 1.0940\n",
      "train_epoch: 3, loss: 1.0884\n",
      "dev_epoch: 3, loss: 1.0899\n",
      "train_epoch: 4, loss: 1.0795\n",
      "dev_epoch: 4, loss: 1.0824\n",
      "train_epoch: 5, loss: 1.0644\n",
      "dev_epoch: 5, loss: 1.0720\n",
      "train_epoch: 6, loss: 1.0394\n",
      "dev_epoch: 6, loss: 1.0478\n",
      "train_epoch: 7, loss: 1.0008\n",
      "dev_epoch: 7, loss: 1.0162\n",
      "train_epoch: 8, loss: 0.9448\n",
      "dev_epoch: 8, loss: 0.9706\n",
      "train_epoch: 9, loss: 0.8707\n",
      "dev_epoch: 9, loss: 0.9173\n",
      "train_epoch: 10, loss: 0.7935\n",
      "dev_epoch: 10, loss: 0.8403\n",
      "train_epoch: 11, loss: 0.7181\n",
      "dev_epoch: 11, loss: 0.7873\n",
      "train_epoch: 12, loss: 0.6580\n",
      "dev_epoch: 12, loss: 0.7188\n",
      "train_epoch: 13, loss: 0.5898\n",
      "dev_epoch: 13, loss: 0.6398\n",
      "train_epoch: 14, loss: 0.5316\n",
      "dev_epoch: 14, loss: 0.5840\n",
      "train_epoch: 15, loss: 0.4806\n",
      "dev_epoch: 15, loss: 0.5443\n",
      "train_epoch: 16, loss: 0.4423\n",
      "dev_epoch: 16, loss: 0.5068\n",
      "train_epoch: 17, loss: 0.4094\n",
      "dev_epoch: 17, loss: 0.4616\n",
      "train_epoch: 18, loss: 0.3821\n",
      "dev_epoch: 18, loss: 0.4372\n",
      "train_epoch: 19, loss: 0.3526\n",
      "dev_epoch: 19, loss: 0.4360\n"
     ]
    }
   ],
   "source": [
    "W = network_weights(vocab_size=len(vocab_bow),embedding_dim=300,\n",
    "                    hidden_dim=[], num_classes=3, init_val=0.1)\n",
    "#model is trained again with the tuned parameters.\n",
    "W, loss_tr, dev_loss = SGD(train_boi, train_data_lbl,\n",
    "                            W,\n",
    "                            X_dev=dev_boi, \n",
    "                            Y_dev=dev_data_lbl,\n",
    "                            lr=0.01, \n",
    "                            dropout=0.7,\n",
    "                            freeze_emb=False,\n",
    "                            tolerance=0.01,\n",
    "                            epochs=30)"
   ]
  },
  {
   "cell_type": "code",
   "execution_count": 42,
   "metadata": {},
   "outputs": [
    {
     "data": {
      "image/png": "[encoded data removed]",
      "text/plain": [
       "<Figure size 432x288 with 1 Axes>"
      ]
     },
     "metadata": {
      "needs_background": "light"
     },
     "output_type": "display_data"
    }
   ],
   "source": [
    "plot_loss(loss_tr, dev_loss)"
   ]
  },
  {
   "cell_type": "markdown",
   "metadata": {},
   "source": [
    "The model looks a good fit as the validation loss and training loss are close and follow a similar pattern."
   ]
  },
  {
   "cell_type": "code",
   "execution_count": 44,
   "metadata": {},
   "outputs": [
    {
     "name": "stdout",
     "output_type": "stream",
     "text": [
      "Accuracy: 0.8531701890989989\n",
      "Precision: 0.8551698361224064\n",
      "Recall: 0.8531475287997027\n",
      "F1-Score: 0.8523707229104804\n"
     ]
    }
   ],
   "source": [
    "#evaluation of metrics on the test data with hypertuned model\n",
    "get_evaluation_metrics(test_boi, test_data_lbl, W)"
   ]
  },
  {
   "cell_type": "markdown",
   "metadata": {},
   "source": [
    "The hypertune method is executed for a combination of higher learning rates (lr), dropout rate and lower epochs along with the mix of embedding_dimension. Higher learning rates are chosen so that the learning process will be faster and reduces the number of training steps the network need to converge. As the learning rate values are increased the epoch size is reduced which should be sufficient for the model to converge given the tolerance and the default model(converged in 5 epochs). The dropout rate (regularisation) will help in penalizing the network to be sensitive to the specific weights of neurons which can lead to overfitting, and results in achieving a network with better generalization rather than having any affect on the performance. \n",
    "\n",
    "The accuracy is improved significantly with the hypertuned model. A higher dropout rate is obtained from the tuning putting regularisation/restriction on picking up any patterns or unwanted noise."
   ]
  },
  {
   "cell_type": "markdown",
   "metadata": {},
   "source": [
    "# Use Pre-trained Embeddings\n",
    "\n",
    "#### Now re-train the network using GloVe pre-trained embeddings. You need to modify the `backward_pass` function above to stop computing gradients and updating weights of the embedding matrix.\n",
    "\n",
    "Use the function below to obtain the embedding martix for your vocabulary. Generally, that should work without any problem. If you get errors, you can modify it."
   ]
  },
  {
   "cell_type": "code",
   "execution_count": 45,
   "metadata": {
    "ExecuteTime": {
     "end_time": "2020-04-02T14:27:32.020697Z",
     "start_time": "2020-04-02T14:27:32.015733Z"
    },
    "scrolled": true
   },
   "outputs": [],
   "source": [
    "def get_glove_embeddings(f_zip, f_txt, word2id, emb_size=300, vocab=set()):\n",
    "    \n",
    "    w_emb = np.zeros((len(word2id), emb_size))\n",
    "    \n",
    "    with zipfile.ZipFile(f_zip) as z:\n",
    "        with z.open(f_txt) as f:\n",
    "            for line in f:\n",
    "                line = line.decode('utf-8')\n",
    "                word = line.split()[0]\n",
    "                     \n",
    "                if word in vocab:\n",
    "                    emb = np.array(line.strip('\\n').split()[1:]).astype(np.float32)\n",
    "                    w_emb[word2id[word]] +=emb\n",
    "    return w_emb"
   ]
  },
  {
   "cell_type": "code",
   "execution_count": 46,
   "metadata": {
    "ExecuteTime": {
     "end_time": "2020-04-02T14:28:54.548613Z",
     "start_time": "2020-04-02T14:27:32.780248Z"
    },
    "scrolled": true
   },
   "outputs": [],
   "source": [
    "#choosing the embedding_dim default value\n",
    "w_glove = get_glove_embeddings(\"glove.840B.300d.zip\",\"glove.840B.300d.txt\",word2id_bow, vocab=vocab_bow)"
   ]
  },
  {
   "cell_type": "markdown",
   "metadata": {},
   "source": [
    "#### First, initialise the weights of your network using the `network_weights` function. Second, replace the weigths of the embedding matrix with `w_glove`. Finally, train the network by freezing the embedding weights: "
   ]
  },
  {
   "cell_type": "code",
   "execution_count": 47,
   "metadata": {
    "ExecuteTime": {
     "end_time": "2020-04-02T14:30:11.121198Z",
     "start_time": "2020-04-02T14:29:24.946124Z"
    },
    "scrolled": true
   },
   "outputs": [
    {
     "name": "stdout",
     "output_type": "stream",
     "text": [
      "Shape W0 (2492, 300)\n",
      "Shape W1 (300, 3)\n"
     ]
    }
   ],
   "source": [
    "W = network_weights(vocab_size=len(vocab_bow), embedding_dim=300, hidden_dim=[], num_classes=3, init_val = 0.1)\n",
    "#replace the embedding weigths with w_glove \n",
    "W[0] = w_glove\n",
    "\n",
    "for i in range(len(W)):\n",
    "    print('Shape W'+str(i), W[i].shape)"
   ]
  },
  {
   "cell_type": "code",
   "execution_count": 48,
   "metadata": {},
   "outputs": [
    {
     "name": "stdout",
     "output_type": "stream",
     "text": [
      "train_epoch: 1, loss: 1.0743\n",
      "dev_epoch: 1, loss: 1.0469\n",
      "train_epoch: 2, loss: 1.0008\n",
      "dev_epoch: 2, loss: 0.9917\n",
      "train_epoch: 3, loss: 0.9418\n",
      "dev_epoch: 3, loss: 0.9256\n",
      "train_epoch: 4, loss: 0.8892\n",
      "dev_epoch: 4, loss: 0.8880\n",
      "train_epoch: 5, loss: 0.8460\n",
      "dev_epoch: 5, loss: 0.8493\n",
      "train_epoch: 6, loss: 0.8060\n",
      "dev_epoch: 6, loss: 0.8223\n",
      "train_epoch: 7, loss: 0.7769\n",
      "dev_epoch: 7, loss: 0.8040\n",
      "train_epoch: 8, loss: 0.7528\n",
      "dev_epoch: 8, loss: 0.7547\n",
      "train_epoch: 9, loss: 0.7236\n",
      "dev_epoch: 9, loss: 0.7111\n",
      "train_epoch: 10, loss: 0.7070\n",
      "dev_epoch: 10, loss: 0.7115\n"
     ]
    }
   ],
   "source": [
    "W, loss_tr, dev_loss = SGD(train_boi, train_data_lbl,\n",
    "                            W,\n",
    "                            X_dev=dev_boi, \n",
    "                            Y_dev=dev_data_lbl,\n",
    "                            lr=0.001, \n",
    "                            dropout=0.2,\n",
    "                            freeze_emb=True,\n",
    "                            tolerance=0.01,\n",
    "                            epochs=100)"
   ]
  },
  {
   "cell_type": "code",
   "execution_count": 49,
   "metadata": {},
   "outputs": [
    {
     "data": {
      "image/png": "[encoded data removed]",
      "text/plain": [
       "<Figure size 432x288 with 1 Axes>"
      ]
     },
     "metadata": {
      "needs_background": "light"
     },
     "output_type": "display_data"
    }
   ],
   "source": [
    "plot_loss(loss_tr, dev_loss)"
   ]
  },
  {
   "cell_type": "code",
   "execution_count": 50,
   "metadata": {
    "ExecuteTime": {
     "end_time": "2020-04-02T15:12:00.815184Z",
     "start_time": "2020-04-02T15:12:00.812563Z"
    },
    "scrolled": true
   },
   "outputs": [
    {
     "name": "stdout",
     "output_type": "stream",
     "text": [
      "Accuracy: 0.8666666666666667\n",
      "Precision: 0.8745627186406796\n",
      "Recall: 0.8666666666666667\n",
      "F1-Score: 0.8680555555555557\n"
     ]
    }
   ],
   "source": [
    "#evaluation of metrics on the validation data\n",
    "get_evaluation_metrics(dev_boi, dev_data_lbl, W)"
   ]
  },
  {
   "cell_type": "code",
   "execution_count": 51,
   "metadata": {},
   "outputs": [
    {
     "name": "stdout",
     "output_type": "stream",
     "text": [
      "Accuracy: 0.8798665183537263\n",
      "Precision: 0.8798635663121063\n",
      "Recall: 0.8798327759197324\n",
      "F1-Score: 0.8797433980414181\n"
     ]
    }
   ],
   "source": [
    "#evaluation of metrics on the test data\n",
    "get_evaluation_metrics(test_boi, test_data_lbl, W)"
   ]
  },
  {
   "cell_type": "markdown",
   "metadata": {},
   "source": [
    "### Discuss how did you choose model hyperparameters ? "
   ]
  },
  {
   "cell_type": "code",
   "execution_count": 52,
   "metadata": {
    "scrolled": true
   },
   "outputs": [],
   "source": [
    "lr=[0.001,0.01,0.1] \n",
    "epochs=[30]            #choosing the value from average_embedding hypertuned model\n",
    "tolerance=[0.01]\n",
    "dropout = [0.2, 0.5, 0.7]\n",
    "embedding_dim = [300]  #choosing the value from average_embedding hypertuned model"
   ]
  },
  {
   "cell_type": "code",
   "execution_count": 54,
   "metadata": {},
   "outputs": [
    {
     "name": "stdout",
     "output_type": "stream",
     "text": [
      "Evaluation Metrics: [{'Ac': 0.94, 'Pr': 0.9416863672182821, 'Re': 0.94, 'F1': 0.9400641359404246}\n",
      " {'Ac': 0.9333333333333333, 'Pr': 0.9375661375661376, 'Re': 0.9333333333333332, 'F1': 0.9336075083840724}\n",
      " {'Ac': 0.9333333333333333, 'Pr': 0.9358366271409749, 'Re': 0.9333333333333332, 'F1': 0.9333393458393459}\n",
      " {'Ac': 0.9333333333333333, 'Pr': 0.9334150326797386, 'Re': 0.9333333333333332, 'F1': 0.9331851552502188}\n",
      " {'Ac': 0.9266666666666666, 'Pr': 0.9284213291305489, 'Re': 0.9266666666666666, 'F1': 0.9267810272964913}]\n",
      "\n",
      "Parameters: [{'lr': 0.1, 'epochs': 30, 'dropout': 0.7, 'embedding_dim': 300, 'hidden_dim': [], 'epochs_threshold_dev': 14}\n",
      " {'lr': 0.1, 'epochs': 30, 'dropout': 0.2, 'embedding_dim': 300, 'hidden_dim': [], 'epochs_threshold_dev': 5}\n",
      " {'lr': 0.01, 'epochs': 30, 'dropout': 0.2, 'embedding_dim': 300, 'hidden_dim': [], 'epochs_threshold_dev': 13}\n",
      " {'lr': 0.1, 'epochs': 30, 'dropout': 0.5, 'embedding_dim': 300, 'hidden_dim': [], 'epochs_threshold_dev': 5}\n",
      " {'lr': 0.1, 'epochs': 30, 'dropout': 0.7, 'embedding_dim': 300, 'hidden_dim': [], 'epochs_threshold_dev': 5}]\n"
     ]
    }
   ],
   "source": [
    "##hypertuning the model with pretrained embeddings\n",
    "#hypertune(train_boi, train_data_lbl, dev_boi, dev_data_lbl, 15, print_metrics=True, use_pretrained=True)"
   ]
  },
  {
   "cell_type": "markdown",
   "metadata": {},
   "source": [
    "Below is the table with top 5 best performed combinations of hypertuned parameters\n",
    "\n",
    "|  | lr  | dropout  | accuracy  | f1-score  | embedding  | epoch |\n",
    "|:-:|:-:|:-:|:-:|:-:|:-:|:-:|\n",
    "| 1  | 0.1  | 0.7  | 0.94  | 0.9400  | 300 | 30 |\n",
    "| 2  | 0.1  | 0.2  | 0.9333  | 0.9336  | 300 | 30  |\n",
    "| 3  | 0.01  | 0.2  | 0.9333  | 0.9333  | 300 | 30  |\n",
    "| 4  | 0.03  | 0.001  | 0.9333  | 0.9331  | 300 | 30  |\n",
    "| 5  | 0.03  | 0.001  | 0.9266  | 0.9267  | 300 | 30  |\n",
    "\n",
    "Accuracy of the validation is improved with hypertuning. The best performance for validation is achieved with higher learning rate, dropout than the default ones and the model is trained again with the tuned parameters."
   ]
  },
  {
   "cell_type": "code",
   "execution_count": 55,
   "metadata": {},
   "outputs": [
    {
     "name": "stdout",
     "output_type": "stream",
     "text": [
      "Shape W0 (2492, 300)\n",
      "Shape W1 (300, 3)\n"
     ]
    }
   ],
   "source": [
    "W = network_weights(vocab_size=len(vocab_bow), embedding_dim=300, hidden_dim=[], num_classes=3, init_val = 0.1)\n",
    "#replace the embedding weigths with w_glove \n",
    "W[0] = w_glove\n",
    "\n",
    "for i in range(len(W)):\n",
    "    print('Shape W'+str(i), W[i].shape)"
   ]
  },
  {
   "cell_type": "code",
   "execution_count": 56,
   "metadata": {},
   "outputs": [
    {
     "name": "stdout",
     "output_type": "stream",
     "text": [
      "train_epoch: 1, loss: 0.8429\n",
      "dev_epoch: 1, loss: 0.7283\n",
      "train_epoch: 2, loss: 0.6360\n",
      "dev_epoch: 2, loss: 0.5519\n",
      "train_epoch: 3, loss: 0.5657\n",
      "dev_epoch: 3, loss: 0.5463\n",
      "train_epoch: 4, loss: 0.5197\n",
      "dev_epoch: 4, loss: 0.5198\n",
      "train_epoch: 5, loss: 0.5148\n",
      "dev_epoch: 5, loss: 0.4619\n",
      "train_epoch: 6, loss: 0.5129\n",
      "dev_epoch: 6, loss: 0.4919\n",
      "train_epoch: 7, loss: 0.4804\n",
      "dev_epoch: 7, loss: 0.5234\n",
      "train_epoch: 8, loss: 0.4901\n",
      "dev_epoch: 8, loss: 0.4851\n",
      "train_epoch: 9, loss: 0.4822\n",
      "dev_epoch: 9, loss: 0.4226\n",
      "train_epoch: 10, loss: 0.4799\n",
      "dev_epoch: 10, loss: 0.5062\n",
      "train_epoch: 11, loss: 0.4816\n",
      "dev_epoch: 11, loss: 0.4306\n",
      "train_epoch: 12, loss: 0.4647\n",
      "dev_epoch: 12, loss: 0.4874\n",
      "train_epoch: 13, loss: 0.4651\n",
      "dev_epoch: 13, loss: 0.4310\n",
      "train_epoch: 14, loss: 0.4676\n",
      "dev_epoch: 14, loss: 0.3909\n",
      "train_epoch: 15, loss: 0.4708\n",
      "dev_epoch: 15, loss: 0.3692\n",
      "train_epoch: 16, loss: 0.4591\n",
      "dev_epoch: 16, loss: 0.4034\n",
      "train_epoch: 17, loss: 0.4510\n",
      "dev_epoch: 17, loss: 0.4374\n",
      "train_epoch: 18, loss: 0.4564\n",
      "dev_epoch: 18, loss: 0.3959\n",
      "train_epoch: 19, loss: 0.4617\n",
      "dev_epoch: 19, loss: 0.4841\n",
      "train_epoch: 20, loss: 0.4466\n",
      "dev_epoch: 20, loss: 0.3963\n",
      "train_epoch: 21, loss: 0.4485\n",
      "dev_epoch: 21, loss: 0.3521\n",
      "train_epoch: 22, loss: 0.4572\n",
      "dev_epoch: 22, loss: 0.3952\n",
      "train_epoch: 23, loss: 0.4584\n",
      "dev_epoch: 23, loss: 0.3929\n"
     ]
    }
   ],
   "source": [
    "#model is trained again with the tuned parameters.\n",
    "W, loss_tr, dev_loss = SGD(train_boi, train_data_lbl,\n",
    "                            W,\n",
    "                            X_dev=dev_boi, \n",
    "                            Y_dev=dev_data_lbl,\n",
    "                            lr=0.1, \n",
    "                            dropout=0.7,\n",
    "                            freeze_emb=True,\n",
    "                            tolerance=0.01,\n",
    "                            epochs=30)"
   ]
  },
  {
   "cell_type": "code",
   "execution_count": 57,
   "metadata": {},
   "outputs": [
    {
     "data": {
      "image/png": "[encoded data removed]",
      "text/plain": [
       "<Figure size 432x288 with 1 Axes>"
      ]
     },
     "metadata": {
      "needs_background": "light"
     },
     "output_type": "display_data"
    }
   ],
   "source": [
    "plot_loss(loss_tr, dev_loss)"
   ]
  },
  {
   "cell_type": "markdown",
   "metadata": {},
   "source": [
    "The model might just be right with the validation loss picking up some oscillating noise and follow decreasing trend with the decrease in the training loss."
   ]
  },
  {
   "cell_type": "code",
   "execution_count": 58,
   "metadata": {},
   "outputs": [
    {
     "name": "stdout",
     "output_type": "stream",
     "text": [
      "Accuracy: 0.8887652947719689\n",
      "Precision: 0.8896361942175189\n",
      "Recall: 0.8887365291713119\n",
      "F1-Score: 0.8884159249258259\n"
     ]
    }
   ],
   "source": [
    "#evaluation of metrics on the test data with hypertuned model\n",
    "get_evaluation_metrics(test_boi, test_data_lbl, W)"
   ]
  },
  {
   "cell_type": "markdown",
   "metadata": {},
   "source": [
    "The hypertune method is executed for a combination of higher learning rates (lr) and higher dropout rates along with the default values selected. Higher learning rates are chosen so that the learning process will be faster and reduces the number of training steps the network need to converge. Higher values for dropout rate will put higher regularization affect on the network and gives more generalized results.\n",
    "\n",
    "The accuracy is slightly improved with the hypertuned model. A higher learning rate and dropout rate is obtained from the tuning putting restriction on picking up any patterns or unwanted noise."
   ]
  },
  {
   "cell_type": "markdown",
   "metadata": {},
   "source": [
    "# Extend to support deeper architectures \n",
    "\n",
    "#### Extend the network to support back-propagation for more hidden layers. You need to modify the `backward_pass` function above to compute gradients and update the weights between intermediate hidden layers. Finally, train and evaluate a network with a deeper architecture. Do deeper architectures increase performance?"
   ]
  },
  {
   "cell_type": "code",
   "execution_count": 59,
   "metadata": {
    "ExecuteTime": {
     "end_time": "2020-04-02T14:58:51.764619Z",
     "start_time": "2020-04-02T14:58:47.483690Z"
    },
    "scrolled": true
   },
   "outputs": [
    {
     "name": "stdout",
     "output_type": "stream",
     "text": [
      "Shape W0 (2492, 300)\n",
      "Shape W1 (300, 200)\n",
      "Shape W2 (200, 100)\n",
      "Shape W3 (100, 3)\n"
     ]
    }
   ],
   "source": [
    "W = network_weights(vocab_size=len(vocab_bow),embedding_dim=300,hidden_dim=[200,100], num_classes=3, init_val = 0.1)\n",
    "W[0] = w_glove\n",
    "\n",
    "for i in range(len(W)):\n",
    "    print('Shape W'+str(i), W[i].shape)"
   ]
  },
  {
   "cell_type": "code",
   "execution_count": 60,
   "metadata": {},
   "outputs": [
    {
     "name": "stdout",
     "output_type": "stream",
     "text": [
      "train_epoch: 1, loss: 1.0961\n",
      "dev_epoch: 1, loss: 1.0976\n",
      "train_epoch: 2, loss: 1.0917\n",
      "dev_epoch: 2, loss: 1.0923\n",
      "train_epoch: 3, loss: 1.0868\n",
      "dev_epoch: 3, loss: 1.0869\n",
      "train_epoch: 4, loss: 1.0789\n",
      "dev_epoch: 4, loss: 1.0774\n",
      "train_epoch: 5, loss: 1.0671\n",
      "dev_epoch: 5, loss: 1.0643\n",
      "train_epoch: 6, loss: 1.0507\n",
      "dev_epoch: 6, loss: 1.0442\n",
      "train_epoch: 7, loss: 1.0252\n",
      "dev_epoch: 7, loss: 1.0166\n",
      "train_epoch: 8, loss: 0.9776\n",
      "dev_epoch: 8, loss: 0.9813\n",
      "train_epoch: 9, loss: 0.9183\n",
      "dev_epoch: 9, loss: 0.8856\n",
      "train_epoch: 10, loss: 0.8343\n",
      "dev_epoch: 10, loss: 0.8025\n",
      "train_epoch: 11, loss: 0.7374\n",
      "dev_epoch: 11, loss: 0.7174\n",
      "train_epoch: 12, loss: 0.6533\n",
      "dev_epoch: 12, loss: 0.6153\n",
      "train_epoch: 13, loss: 0.5859\n",
      "dev_epoch: 13, loss: 0.5800\n",
      "train_epoch: 14, loss: 0.5333\n",
      "dev_epoch: 14, loss: 0.4706\n",
      "train_epoch: 15, loss: 0.4863\n",
      "dev_epoch: 15, loss: 0.4706\n"
     ]
    }
   ],
   "source": [
    "W, loss_tr, dev_loss = SGD(train_boi, train_data_lbl,\n",
    "                            W,\n",
    "                            X_dev=dev_boi, \n",
    "                            Y_dev=dev_data_lbl,\n",
    "                            lr=0.001, \n",
    "                            dropout=0.2,\n",
    "                            freeze_emb=True,\n",
    "                            tolerance=0.01,\n",
    "                            epochs=50)"
   ]
  },
  {
   "cell_type": "code",
   "execution_count": 61,
   "metadata": {},
   "outputs": [
    {
     "data": {
      "image/png": "[encoded data removed]",
      "text/plain": [
       "<Figure size 432x288 with 1 Axes>"
      ]
     },
     "metadata": {
      "needs_background": "light"
     },
     "output_type": "display_data"
    }
   ],
   "source": [
    "plot_loss(loss_tr, dev_loss)"
   ]
  },
  {
   "cell_type": "code",
   "execution_count": 62,
   "metadata": {},
   "outputs": [
    {
     "name": "stdout",
     "output_type": "stream",
     "text": [
      "Accuracy: 0.9\n",
      "Precision: 0.9034391534391535\n",
      "Recall: 0.9\n",
      "F1-Score: 0.8999762604529238\n"
     ]
    }
   ],
   "source": [
    "#evaluation of metrics on the validation data\n",
    "get_evaluation_metrics(dev_boi, dev_data_lbl, W)"
   ]
  },
  {
   "cell_type": "code",
   "execution_count": 63,
   "metadata": {},
   "outputs": [
    {
     "name": "stdout",
     "output_type": "stream",
     "text": [
      "Accuracy: 0.8731924360400445\n",
      "Precision: 0.8737795864559987\n",
      "Recall: 0.8731475287997027\n",
      "F1-Score: 0.8727695647962433\n"
     ]
    }
   ],
   "source": [
    "#evaluation of metrics on the test data\n",
    "get_evaluation_metrics(test_boi, test_data_lbl, W)"
   ]
  },
  {
   "cell_type": "markdown",
   "metadata": {},
   "source": [
    "### Discuss how did you choose model hyperparameters ? "
   ]
  },
  {
   "cell_type": "code",
   "execution_count": 66,
   "metadata": {},
   "outputs": [],
   "source": [
    "lr=[0.001,0.01,0.1] \n",
    "epochs=[30]\n",
    "tolerance=[0.01]\n",
    "dropout = [0.2, 0.5, 0.7]\n",
    "embedding_dim = [300]\n",
    "hidden_dim = [[100,50], [200,100], [300,200]]  #restricting to 2 hidden layers"
   ]
  },
  {
   "cell_type": "code",
   "execution_count": 67,
   "metadata": {},
   "outputs": [
    {
     "name": "stdout",
     "output_type": "stream",
     "text": [
      "Evaluation Metrics: [{'Ac': 0.9333333333333333, 'Pr': 0.9358366271409749, 'Re': 0.9333333333333332, 'F1': 0.9333393458393459}\n",
      " {'Ac': 0.9266666666666666, 'Pr': 0.9301587301587301, 'Re': 0.9266666666666666, 'F1': 0.9265899645244232}\n",
      " {'Ac': 0.92, 'Pr': 0.924388747747161, 'Re': 0.9199999999999999, 'F1': 0.9195372976129018}\n",
      " {'Ac': 0.92, 'Pr': 0.9246411483253588, 'Re': 0.9199999999999999, 'F1': 0.9198118923710492}\n",
      " {'Ac': 0.92, 'Pr': 0.9270248596631916, 'Re': 0.9199999999999999, 'F1': 0.9201694362984686}]\n",
      "\n",
      "Parameters: [{'lr': 0.01, 'epochs': 30, 'dropout': 0.5, 'embedding_dim': 300, 'hidden_dim': [200, 100], 'epochs_threshold_dev': 10}\n",
      " {'lr': 0.01, 'epochs': 30, 'dropout': 0.2, 'embedding_dim': 300, 'hidden_dim': [200, 100], 'epochs_threshold_dev': 5}\n",
      " {'lr': 0.1, 'epochs': 30, 'dropout': 0.2, 'embedding_dim': 300, 'hidden_dim': [100, 50], 'epochs_threshold_dev': 15}\n",
      " {'lr': 0.01, 'epochs': 30, 'dropout': 0.5, 'embedding_dim': 300, 'hidden_dim': [200, 100], 'epochs_threshold_dev': 15}\n",
      " {'lr': 0.1, 'epochs': 30, 'dropout': 0.5, 'embedding_dim': 300, 'hidden_dim': [100, 50], 'epochs_threshold_dev': 26}]\n"
     ]
    }
   ],
   "source": [
    "#hypertuning the model with pretrained embeddings and added hidden layers\n",
    "hypertune(train_boi, train_data_lbl, dev_boi, dev_data_lbl, 25, print_metrics=True, use_pretrained=True)"
   ]
  },
  {
   "cell_type": "markdown",
   "metadata": {},
   "source": [
    "Below is the table with top 5 best performed combinations of hypertuned parameters\n",
    "\n",
    "|  | lr  | dropout  | hidden_dim | accuracy  | f1-score  | embedding_dim | epoch  |\n",
    "|:-:|:-:|:-:|:-:|:-:|:-:|:-:|:-:|\n",
    "| 1  | 0.01  | 0.5  | [200, 100] | 0.9333  | 0.9333  |  300 | 30 |\n",
    "| 2  | 0.01  | 0.2  | [200, 100] | 0.9266  | 0.9265  | 300  | 30 |\n",
    "| 3  | 0.1  | 0.2  | [100, 50] | 0.92  | 0.9195  | 300  | 30 |\n",
    "| 4  | 0.01  | 0.5  | [200, 100] | 0.92  | 0.9198  | 300  | 30 |\n",
    "| 5  | 0.1  | 0.5  | [100, 50] | 0.92  | 0.9201  | 300  | 30 |\n",
    "\n",
    "Accuracy of the validation is improved with hypertuning. The best performance for validation is achieved with higher learning rate, dropout than the default ones and for the default hidden_dim(layers and neuron_size) and the model is trained again with the tuned parameters."
   ]
  },
  {
   "cell_type": "code",
   "execution_count": 69,
   "metadata": {},
   "outputs": [
    {
     "name": "stdout",
     "output_type": "stream",
     "text": [
      "train_epoch: 1, loss: 1.0983\n",
      "dev_epoch: 1, loss: 1.0994\n",
      "train_epoch: 2, loss: 1.0972\n",
      "dev_epoch: 2, loss: 1.0966\n",
      "train_epoch: 3, loss: 1.0943\n",
      "dev_epoch: 3, loss: 1.0928\n",
      "train_epoch: 4, loss: 1.0882\n",
      "dev_epoch: 4, loss: 1.0833\n",
      "train_epoch: 5, loss: 1.0668\n",
      "dev_epoch: 5, loss: 1.0431\n",
      "train_epoch: 6, loss: 0.9835\n",
      "dev_epoch: 6, loss: 0.9419\n",
      "train_epoch: 7, loss: 0.8227\n",
      "dev_epoch: 7, loss: 0.7340\n",
      "train_epoch: 8, loss: 0.6794\n",
      "dev_epoch: 8, loss: 0.6081\n",
      "train_epoch: 9, loss: 0.5763\n",
      "dev_epoch: 9, loss: 0.5318\n",
      "train_epoch: 10, loss: 0.4873\n",
      "dev_epoch: 10, loss: 0.4786\n",
      "train_epoch: 11, loss: 0.4984\n",
      "dev_epoch: 11, loss: 0.4324\n",
      "train_epoch: 12, loss: 0.4475\n",
      "dev_epoch: 12, loss: 0.3607\n",
      "train_epoch: 13, loss: 0.4480\n",
      "dev_epoch: 13, loss: 0.3560\n"
     ]
    }
   ],
   "source": [
    "W = network_weights(vocab_size=len(vocab_bow),embedding_dim=300,\n",
    "                    hidden_dim=[200, 100], num_classes=3, init_val=0.1)\n",
    "W[0] = w_glove\n",
    "#model is trained again with the tuned parameters.\n",
    "W, loss_tr, dev_loss = SGD(train_boi, train_data_lbl,\n",
    "                            W,\n",
    "                            X_dev=dev_boi, \n",
    "                            Y_dev=dev_data_lbl,\n",
    "                            lr=0.01, \n",
    "                            dropout=0.5,\n",
    "                            freeze_emb=True,\n",
    "                            tolerance=0.01,\n",
    "                            epochs=30)"
   ]
  },
  {
   "cell_type": "code",
   "execution_count": 70,
   "metadata": {},
   "outputs": [
    {
     "data": {
      "image/png": "[encoded data removed]",
      "text/plain": [
       "<Figure size 432x288 with 1 Axes>"
      ]
     },
     "metadata": {
      "needs_background": "light"
     },
     "output_type": "display_data"
    }
   ],
   "source": [
    "plot_loss(loss_tr, dev_loss)"
   ]
  },
  {
   "cell_type": "markdown",
   "metadata": {},
   "source": [
    "The model is about right as the validation loss follows a sillilar trend with training loss. Towards the though the training loss is increased the valiodation kept decreasing which indicates a possibility of further learning."
   ]
  },
  {
   "cell_type": "code",
   "execution_count": 71,
   "metadata": {},
   "outputs": [
    {
     "name": "stdout",
     "output_type": "stream",
     "text": [
      "Accuracy: 0.8909899888765295\n",
      "Precision: 0.8909526323317394\n",
      "Recall: 0.8908955778520995\n",
      "F1-Score: 0.889925386417941\n"
     ]
    }
   ],
   "source": [
    "#evaluation of metrics on the test data with hypertuned model\n",
    "get_evaluation_metrics(test_boi, test_data_lbl, W)"
   ]
  },
  {
   "cell_type": "markdown",
   "metadata": {},
   "source": [
    "The hypertune method is executed for a combination of higher learning rates (lr), dropout rates and a combination hidden_dim of neuron sizes(keeping it to 2 hidden layers) along with the default values selected. Higher learning rates are chosen so that the learning process will be faster and reduces the number of training steps the network need to converge. Higher values for dropout rate will put higher regularization affect on the network and gives more generalized results. A mixed hidden_dim is provided as per the commonly follwed rule that 'the optimal size of the hidden layer is usually between the size of the input and size of the output layers' to see if the neuron size have any impact on the performance.\n",
    "\n",
    "The accuracy is slightly improved with the hypertuned model. A higher learning rate and dropout rate is obtained from the tuning so as to avoid overfitting."
   ]
  },
  {
   "cell_type": "markdown",
   "metadata": {},
   "source": [
    "## Full Results\n",
    "\n",
    "Add your final results here:                                                                                                  "
   ]
  },
  {
   "cell_type": "markdown",
   "metadata": {},
   "source": [
    "| Model | Precision  | Recall  | F1-Score  | Accuracy\n",
    "|:-:|:-:|:-:|:-:|:-:|\n",
    "| Average Embedding  | 0.8551  | 0.8531  | 0.8523  | 0.8531 |\n",
    "| Average Embedding (Pre-trained)  | 0.8896  | 0.8887  | 0.8884  | 0.8887  |\n",
    "| Average Embedding (Pre-trained) + X hidden layers    | 0.8909  | 0.8908  | 0.8899  | 0.8909  |"
   ]
  },
  {
   "cell_type": "markdown",
   "metadata": {},
   "source": [
    "Please discuss why your best performing model is better than the rest.                                                         "
   ]
  },
  {
   "cell_type": "markdown",
   "metadata": {
    "scrolled": true
   },
   "source": [
    "So overall, the average embedding with pre-trained weights and deep neural network architecture with two hidden layers achieved the best performance results. We can clearly see that the pretrained weights with default parameters has a better performace (Accuracy - 0.87) when compared to the default average embedding model (Accuracy - 0.66). By adding hidden layers the performance is further increased as the hidden layers add more abstraction, the models might tend to learn better and yield better results but this depends on the data and other aspects of the problem. "
   ]
  },
  {
   "cell_type": "markdown",
   "metadata": {},
   "source": [
    "Please note that since the indices of the vocabulary keep changing everytime when the default get_vocab method is executed, the results might not reproduce as the embedding matrix changes. To achieve the reproducibility the get_vocab function can be modified to produce the same output for the vocab but in this case the default_method provided is used."
   ]
  },
  {
   "cell_type": "markdown",
   "metadata": {},
   "source": [
    "## References"
   ]
  },
  {
   "cell_type": "markdown",
   "metadata": {},
   "source": [
    "\n",
    "1. COM6513 Natural Language Processing: Lecture - 6.\n",
    "\n",
    "2. Lab - Python Introduction for NLP.\n",
    "\n",
    "3. Assignment - 1.\n",
    "\n",
    "4. Speech and Language Processing. Daniel Jurafsky & James H. Martin. December 30, 2020.\n",
    "   \"https://web.stanford.edu/~jurafsky/slp3/5.pdf\" \n",
    "\n",
    "5. Javier Ideami, Feb 2019 - \n",
    "   \"Coding a 2 layer neural network from scratch in Python\" from https://towardsdatascience.com/coding-a-2-layer-neural-network-from-scratch-in-python-4dd022d19fd2\n",
    "\n",
    "6. Jason Brownlee, November 2016 - \n",
    "   \"How to Code a Neural Network with Backpropagation In Python\" from https://machinelearningmastery.com/implement-backpropagation-algorithm-scratch-python/\n",
    "   \n",
    "7. NiranjanKumar, April 2019 - \n",
    "   \"Building a Feedforward Neural Network from Scratch in Python\" from https://hackernoon.com/building-a-feedforward-neural-network-from-scratch-in-python-d3526457156b\n",
    "   \n",
    "8. A Simple Neural Network - With Numpy in Python from https://mlnotebook.github.io/post/nn-in-python/   "
   ]
  }
 ],
 "metadata": {
  "kernelspec": {
   "display_name": "Python 3",
   "language": "python",
   "name": "python3"
  },
  "language_info": {
   "codemirror_mode": {
    "name": "ipython",
    "version": 3
   },
   "file_extension": ".py",
   "mimetype": "text/x-python",
   "name": "python",
   "nbconvert_exporter": "python",
   "pygments_lexer": "ipython3",
   "version": "3.7.6"
  }
 },
 "nbformat": 4,
 "nbformat_minor": 2
}
